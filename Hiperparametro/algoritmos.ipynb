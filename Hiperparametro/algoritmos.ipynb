{
  "nbformat": 4,
  "nbformat_minor": 0,
  "metadata": {
    "colab": {
      "provenance": []
    },
    "kernelspec": {
      "name": "python3",
      "display_name": "Python 3"
    },
    "language_info": {
      "name": "python"
    }
  },
  "cells": [
    {
      "cell_type": "markdown",
      "source": [
        "# **CRIAÇÃO DE ALGORITMOS DE MACHINE LEARNING** "
      ],
      "metadata": {
        "id": "_MGLrkr74OyX"
      }
    },
    {
      "cell_type": "markdown",
      "source": [
        "**ETAPAS**:\n",
        "\n",
        "1) Coleta dos dados\n",
        "\n",
        "2) Tratamento dos dados (Limpeza, organização, exploração)\n",
        "\n",
        "3) Preparação dos dados (escalonamento, mudança nas variáveis, redução de dimensionalidade, separação em dados de treino e teste)\n",
        "\n",
        "4) Escolha e geração do modelo\n",
        "\n",
        "5) Treinamento do algoritmo\n",
        "\n",
        "6) Avaliação do modelo\n",
        "\n",
        "7) Aprimoramento do resultado\n",
        "\n",
        "8) Resultado final (Classificação, predição, agrupamento, associação...)"
      ],
      "metadata": {
        "id": "ryiOxnJ363Lt"
      }
    },
    {
      "cell_type": "markdown",
      "source": [
        "## **ALGORITMOS DE CLASSIFICAÇÃO**"
      ],
      "metadata": {
        "id": "N-yzX51_4iyM"
      }
    },
    {
      "cell_type": "markdown",
      "source": [
        "### **MÁQUINAS DE VETORES DE SUPORTE (SVM)**"
      ],
      "metadata": {
        "id": "gTC-wFyT8o_9"
      }
    },
    {
      "cell_type": "markdown",
      "source": [
        "https://scikit-learn.org/stable/modules/generated/sklearn.svm.SVC.html"
      ],
      "metadata": {
        "id": "5p55FhL3b52u"
      }
    },
    {
      "cell_type": "code",
      "source": [
        "# Importação da Biblioteca\n",
        "from sklearn.svm import SVC"
      ],
      "metadata": {
        "id": "oVy0EpUfpquK"
      },
      "execution_count": 1,
      "outputs": []
    },
    {
      "cell_type": "code",
      "metadata": {
        "id": "P7xKKTCabAab"
      },
      "source": [
        "# Geração do modelo\n",
        "svm = SVC(kernel='rbf', random_state=1, C = 2) "
      ],
      "execution_count": 2,
      "outputs": []
    },
    {
      "cell_type": "markdown",
      "source": [
        "### **NAIVE BAYES**"
      ],
      "metadata": {
        "id": "f6u542_aEj6B"
      }
    },
    {
      "cell_type": "markdown",
      "source": [
        "https://scikit-learn.org/stable/modules/naive_bayes.html"
      ],
      "metadata": {
        "id": "2tnCKM7kcfQl"
      }
    },
    {
      "cell_type": "code",
      "source": [
        "# Importação da Biblioteca\n",
        "from sklearn.naive_bayes import GaussianNB"
      ],
      "metadata": {
        "id": "YhAnMs4TJRoa"
      },
      "execution_count": 3,
      "outputs": []
    },
    {
      "cell_type": "code",
      "source": [
        "# Geração do modelo\n",
        "naive = GaussianNB()"
      ],
      "metadata": {
        "id": "uZZRhimQ5UEr"
      },
      "execution_count": 4,
      "outputs": []
    },
    {
      "cell_type": "markdown",
      "source": [
        "### **REGRESSÃO LOGÍSTICA**"
      ],
      "metadata": {
        "id": "jebC8M2jqyc9"
      }
    },
    {
      "cell_type": "markdown",
      "source": [
        "https://scikit-learn.org/stable/modules/generated/sklearn.linear_model.LogisticRegression.html"
      ],
      "metadata": {
        "id": "mprvbtyNbzP3"
      }
    },
    {
      "cell_type": "code",
      "source": [
        "from sklearn.linear_model import LogisticRegression"
      ],
      "metadata": {
        "id": "NVGe2Q7ur-Nv"
      },
      "execution_count": 5,
      "outputs": []
    },
    {
      "cell_type": "code",
      "metadata": {
        "id": "f_RnL43VV9Yc"
      },
      "source": [
        "# Geração do modelo\n",
        "logistica = LogisticRegression()"
      ],
      "execution_count": 6,
      "outputs": []
    },
    {
      "cell_type": "markdown",
      "source": [
        "### **APRENDIZAGEM BASEADA EM INSTÂNCIAS (KNN)**"
      ],
      "metadata": {
        "id": "GETCbQj7v32B"
      }
    },
    {
      "cell_type": "markdown",
      "source": [
        "https://scikit-learn.org/stable/modules/generated/sklearn.neighbors.KNeighborsClassifier.html"
      ],
      "metadata": {
        "id": "AXOVpUsGbnlK"
      }
    },
    {
      "cell_type": "code",
      "source": [
        "from sklearn.neighbors import KNeighborsClassifier"
      ],
      "metadata": {
        "id": "u3_VSVAFwo8H"
      },
      "execution_count": 7,
      "outputs": []
    },
    {
      "cell_type": "code",
      "metadata": {
        "id": "xkC1VdFmXvcz"
      },
      "source": [
        "# Geração do modelo\n",
        "knn = KNeighborsClassifier(n_neighbors=7, metric='minkowski', p=1)"
      ],
      "execution_count": 8,
      "outputs": []
    },
    {
      "cell_type": "markdown",
      "source": [
        "### **ÁRVORE DE DECISÃO**"
      ],
      "metadata": {
        "id": "VdGvKcYjODGt"
      }
    },
    {
      "cell_type": "markdown",
      "source": [
        "https://scikit-learn.org/stable/modules/tree.html"
      ],
      "metadata": {
        "id": "i65VtZ4pcQGP"
      }
    },
    {
      "cell_type": "code",
      "source": [
        "from sklearn.tree import DecisionTreeClassifier"
      ],
      "metadata": {
        "id": "-2oaMph5OFa2"
      },
      "execution_count": 9,
      "outputs": []
    },
    {
      "cell_type": "code",
      "source": [
        "arvore = DecisionTreeClassifier()"
      ],
      "metadata": {
        "id": "Zxu4_zhCOMVj"
      },
      "execution_count": 10,
      "outputs": []
    },
    {
      "cell_type": "markdown",
      "source": [
        "### **RANDOM FOREST**"
      ],
      "metadata": {
        "id": "hw7px-UemoSc"
      }
    },
    {
      "cell_type": "markdown",
      "source": [
        "https://scikit-learn.org/stable/modules/generated/sklearn.ensemble.RandomForestClassifier.html"
      ],
      "metadata": {
        "id": "HAUbw5xfcCYy"
      }
    },
    {
      "cell_type": "code",
      "source": [
        "from sklearn.ensemble import RandomForestClassifier"
      ],
      "metadata": {
        "id": "BqqXdinImokj"
      },
      "execution_count": 11,
      "outputs": []
    },
    {
      "cell_type": "code",
      "source": [
        "random = RandomForestClassifier()"
      ],
      "metadata": {
        "id": "Klr3lymumztn"
      },
      "execution_count": 12,
      "outputs": []
    },
    {
      "cell_type": "markdown",
      "source": [
        "### **GRADIENT BOOSTING**"
      ],
      "metadata": {
        "id": "49GRRZooGyEv"
      }
    },
    {
      "cell_type": "markdown",
      "source": [
        "https://scikit-learn.org/stable/modules/generated/sklearn.ensemble.GradientBoostingClassifier.html"
      ],
      "metadata": {
        "id": "2PPVpDpBGyEw"
      }
    },
    {
      "cell_type": "code",
      "source": [
        "from sklearn.ensemble import GradientBoostingClassifier"
      ],
      "metadata": {
        "id": "Qt6lHsbSGvA1"
      },
      "execution_count": 13,
      "outputs": []
    },
    {
      "cell_type": "code",
      "source": [
        "# Geração do modelo\n",
        "gbm = GradientBoostingClassifier()"
      ],
      "metadata": {
        "id": "iY63KMMGHQnq"
      },
      "execution_count": 14,
      "outputs": []
    },
    {
      "cell_type": "markdown",
      "source": [
        "### **XGBOOST**"
      ],
      "metadata": {
        "id": "jH3OocboSGXH"
      }
    },
    {
      "cell_type": "markdown",
      "source": [
        "https://xgboost.readthedocs.io/en/stable/"
      ],
      "metadata": {
        "id": "OpLLJlcnbcsR"
      }
    },
    {
      "cell_type": "code",
      "source": [
        "from xgboost import XGBClassifier"
      ],
      "metadata": {
        "id": "PKdcu1J2Qk0h"
      },
      "execution_count": 15,
      "outputs": []
    },
    {
      "cell_type": "code",
      "source": [
        "xg = XGBClassifier()"
      ],
      "metadata": {
        "id": "jyOMVARbQmLa"
      },
      "execution_count": 16,
      "outputs": []
    },
    {
      "cell_type": "markdown",
      "source": [
        "### **LIGHT GBM**"
      ],
      "metadata": {
        "id": "6rvu4WmECxfQ"
      }
    },
    {
      "cell_type": "markdown",
      "source": [
        "https://lightgbm.readthedocs.io/en/latest/pythonapi/lightgbm.LGBMRegressor.html "
      ],
      "metadata": {
        "id": "CK1WcKc2CxfR"
      }
    },
    {
      "cell_type": "code",
      "source": [
        "# Instalação do Algoritmo\n",
        "!pip install lightgbm"
      ],
      "metadata": {
        "colab": {
          "base_uri": "https://localhost:8080/"
        },
        "outputId": "138c92ec-e9f2-43b3-cf1f-a5b0e7719954",
        "id": "h_yv-yAbCxfS"
      },
      "execution_count": 17,
      "outputs": [
        {
          "output_type": "stream",
          "name": "stdout",
          "text": [
            "Looking in indexes: https://pypi.org/simple, https://us-python.pkg.dev/colab-wheels/public/simple/\n",
            "Requirement already satisfied: lightgbm in /usr/local/lib/python3.7/dist-packages (2.2.3)\n",
            "Requirement already satisfied: scikit-learn in /usr/local/lib/python3.7/dist-packages (from lightgbm) (1.0.2)\n",
            "Requirement already satisfied: numpy in /usr/local/lib/python3.7/dist-packages (from lightgbm) (1.21.6)\n",
            "Requirement already satisfied: scipy in /usr/local/lib/python3.7/dist-packages (from lightgbm) (1.7.3)\n",
            "Requirement already satisfied: joblib>=0.11 in /usr/local/lib/python3.7/dist-packages (from scikit-learn->lightgbm) (1.2.0)\n",
            "Requirement already satisfied: threadpoolctl>=2.0.0 in /usr/local/lib/python3.7/dist-packages (from scikit-learn->lightgbm) (3.1.0)\n"
          ]
        }
      ]
    },
    {
      "cell_type": "code",
      "source": [
        "import lightgbm as lgb"
      ],
      "metadata": {
        "id": "XcxJN6feCxfT"
      },
      "execution_count": 18,
      "outputs": []
    },
    {
      "cell_type": "code",
      "source": [
        "lgbm = lgb.LGBMClassifier()"
      ],
      "metadata": {
        "id": "llgmdRCRCxfU"
      },
      "execution_count": 19,
      "outputs": []
    },
    {
      "cell_type": "markdown",
      "source": [
        "### **CATBOOST**"
      ],
      "metadata": {
        "id": "yKpYGEuWUChU"
      }
    },
    {
      "cell_type": "markdown",
      "source": [
        "https://catboost.ai/en/docs/"
      ],
      "metadata": {
        "id": "LMqQ_NMTUChV"
      }
    },
    {
      "cell_type": "code",
      "source": [
        "#Instalação\n",
        "!pip install catboost"
      ],
      "metadata": {
        "id": "Vkt7hfJVUChV",
        "colab": {
          "base_uri": "https://localhost:8080/"
        },
        "outputId": "17139cde-7246-4c86-8fa5-a694c8ffe6e6"
      },
      "execution_count": 20,
      "outputs": [
        {
          "output_type": "stream",
          "name": "stdout",
          "text": [
            "Looking in indexes: https://pypi.org/simple, https://us-python.pkg.dev/colab-wheels/public/simple/\n",
            "Collecting catboost\n",
            "  Downloading catboost-1.1-cp37-none-manylinux1_x86_64.whl (76.8 MB)\n",
            "\u001b[K     |████████████████████████████████| 76.8 MB 1.2 MB/s \n",
            "\u001b[?25hRequirement already satisfied: plotly in /usr/local/lib/python3.7/dist-packages (from catboost) (5.5.0)\n",
            "Requirement already satisfied: numpy>=1.16.0 in /usr/local/lib/python3.7/dist-packages (from catboost) (1.21.6)\n",
            "Requirement already satisfied: scipy in /usr/local/lib/python3.7/dist-packages (from catboost) (1.7.3)\n",
            "Requirement already satisfied: six in /usr/local/lib/python3.7/dist-packages (from catboost) (1.15.0)\n",
            "Requirement already satisfied: matplotlib in /usr/local/lib/python3.7/dist-packages (from catboost) (3.2.2)\n",
            "Requirement already satisfied: graphviz in /usr/local/lib/python3.7/dist-packages (from catboost) (0.10.1)\n",
            "Requirement already satisfied: pandas>=0.24.0 in /usr/local/lib/python3.7/dist-packages (from catboost) (1.3.5)\n",
            "Requirement already satisfied: pytz>=2017.3 in /usr/local/lib/python3.7/dist-packages (from pandas>=0.24.0->catboost) (2022.4)\n",
            "Requirement already satisfied: python-dateutil>=2.7.3 in /usr/local/lib/python3.7/dist-packages (from pandas>=0.24.0->catboost) (2.8.2)\n",
            "Requirement already satisfied: pyparsing!=2.0.4,!=2.1.2,!=2.1.6,>=2.0.1 in /usr/local/lib/python3.7/dist-packages (from matplotlib->catboost) (3.0.9)\n",
            "Requirement already satisfied: kiwisolver>=1.0.1 in /usr/local/lib/python3.7/dist-packages (from matplotlib->catboost) (1.4.4)\n",
            "Requirement already satisfied: cycler>=0.10 in /usr/local/lib/python3.7/dist-packages (from matplotlib->catboost) (0.11.0)\n",
            "Requirement already satisfied: typing-extensions in /usr/local/lib/python3.7/dist-packages (from kiwisolver>=1.0.1->matplotlib->catboost) (4.1.1)\n",
            "Requirement already satisfied: tenacity>=6.2.0 in /usr/local/lib/python3.7/dist-packages (from plotly->catboost) (8.1.0)\n",
            "Installing collected packages: catboost\n",
            "Successfully installed catboost-1.1\n"
          ]
        }
      ]
    },
    {
      "cell_type": "code",
      "source": [
        "from catboost import CatBoostClassifier"
      ],
      "metadata": {
        "id": "kisDuh-RUChW"
      },
      "execution_count": 21,
      "outputs": []
    },
    {
      "cell_type": "code",
      "source": [
        "catboost = CatBoostClassifier()"
      ],
      "metadata": {
        "id": "mO1YOQAy_YH6"
      },
      "execution_count": 22,
      "outputs": []
    },
    {
      "cell_type": "markdown",
      "source": [
        "## **ALGORITMOS DE REGRESSÃO**"
      ],
      "metadata": {
        "id": "uxb_pJ1s_lD6"
      }
    },
    {
      "cell_type": "markdown",
      "source": [
        "### **REGRESSÃO LINEAR SIMPLES E MÚLTIPLA**"
      ],
      "metadata": {
        "id": "S3Hp7kQK9KaY"
      }
    },
    {
      "cell_type": "markdown",
      "source": [
        "https://scikit-learn.org/stable/modules/generated/sklearn.linear_model.LinearRegression.html "
      ],
      "metadata": {
        "id": "x7ruW5bkQhrR"
      }
    },
    {
      "cell_type": "code",
      "source": [
        "from sklearn.linear_model import LinearRegression"
      ],
      "metadata": {
        "id": "vEBGIvlQa41o"
      },
      "execution_count": 23,
      "outputs": []
    },
    {
      "cell_type": "code",
      "metadata": {
        "id": "A-iqvnKk2bnf"
      },
      "source": [
        "reg_linear = LinearRegression()"
      ],
      "execution_count": 24,
      "outputs": []
    },
    {
      "cell_type": "markdown",
      "source": [
        "### **VETORES DE SUPORTE (SVR)**"
      ],
      "metadata": {
        "id": "WX2KnLCzsq7u"
      }
    },
    {
      "cell_type": "markdown",
      "source": [
        "https://scikit-learn.org/stable/modules/generated/sklearn.svm.SVR.html "
      ],
      "metadata": {
        "id": "X5x2joIiP457"
      }
    },
    {
      "cell_type": "code",
      "source": [
        "from sklearn.svm import SVR"
      ],
      "metadata": {
        "id": "QhBhU44WBMYI"
      },
      "execution_count": 25,
      "outputs": []
    },
    {
      "cell_type": "code",
      "source": [
        "svr = SVR()"
      ],
      "metadata": {
        "id": "5Y2PwxsXBPCj"
      },
      "execution_count": 26,
      "outputs": []
    },
    {
      "cell_type": "markdown",
      "source": [
        "### **ÁRVORE DE DECISÃO**"
      ],
      "metadata": {
        "id": "N3OZHJFl2npi"
      }
    },
    {
      "cell_type": "markdown",
      "source": [
        "https://scikit-learn.org/stable/modules/tree.html#regression "
      ],
      "metadata": {
        "id": "0tAem7qwPVhF"
      }
    },
    {
      "cell_type": "code",
      "source": [
        "from sklearn.tree import DecisionTreeRegressor"
      ],
      "metadata": {
        "id": "FCi7X0gMBfkj"
      },
      "execution_count": 27,
      "outputs": []
    },
    {
      "cell_type": "code",
      "source": [
        "arvore = DecisionTreeRegressor()"
      ],
      "metadata": {
        "id": "I1fUprryBfry"
      },
      "execution_count": 28,
      "outputs": []
    },
    {
      "cell_type": "markdown",
      "source": [
        "### **RANDOM FOREST**"
      ],
      "metadata": {
        "id": "em7docfu_mvB"
      }
    },
    {
      "cell_type": "markdown",
      "source": [
        "https://scikit-learn.org/stable/modules/generated/sklearn.ensemble.RandomForestRegressor.html "
      ],
      "metadata": {
        "id": "XxohwrvT_xVI"
      }
    },
    {
      "cell_type": "code",
      "source": [
        "from sklearn.ensemble import RandomForestRegressor"
      ],
      "metadata": {
        "id": "jq-8R7XpB9f3"
      },
      "execution_count": 29,
      "outputs": []
    },
    {
      "cell_type": "code",
      "metadata": {
        "id": "6dN6ggkVBHH4"
      },
      "source": [
        "random = RandomForestRegressor()"
      ],
      "execution_count": 30,
      "outputs": []
    },
    {
      "cell_type": "markdown",
      "source": [
        "### **GRADIENT BOOSTING**"
      ],
      "metadata": {
        "id": "35aLRjY1Hl_C"
      }
    },
    {
      "cell_type": "markdown",
      "source": [
        "https://scikit-learn.org/stable/modules/generated/sklearn.ensemble.GradientBoostingRegressor.html"
      ],
      "metadata": {
        "id": "X4PFAhy4Hl_D"
      }
    },
    {
      "cell_type": "code",
      "source": [
        "from sklearn.ensemble import GradientBoostingRegressor"
      ],
      "metadata": {
        "id": "LlaeSmbkHl_E"
      },
      "execution_count": 31,
      "outputs": []
    },
    {
      "cell_type": "code",
      "source": [
        "# Geração do modelo\n",
        "gbm = GradientBoostingRegressor()"
      ],
      "metadata": {
        "id": "WUlwQt66Hl_F"
      },
      "execution_count": 32,
      "outputs": []
    },
    {
      "cell_type": "markdown",
      "source": [
        "### **REGRESSÃO COM XGBOOST**"
      ],
      "metadata": {
        "id": "texm7_wzD3ZN"
      }
    },
    {
      "cell_type": "markdown",
      "source": [
        "https://xgboost.readthedocs.io/en/latest/python/python_api.html#xgboost.XGBRegressor "
      ],
      "metadata": {
        "id": "9bFhbBKgEnmc"
      }
    },
    {
      "cell_type": "code",
      "source": [
        "from xgboost import XGBRegressor"
      ],
      "metadata": {
        "id": "gXsNjojnEoyA"
      },
      "execution_count": 33,
      "outputs": []
    },
    {
      "cell_type": "code",
      "metadata": {
        "id": "ggIQN7N9LZ3v"
      },
      "source": [
        "xgboost = XGBRegressor()"
      ],
      "execution_count": 34,
      "outputs": []
    },
    {
      "cell_type": "markdown",
      "source": [
        "### **REGRESSÃO COM LIGHT GBM**"
      ],
      "metadata": {
        "id": "5Ml9LC8_P_Us"
      }
    },
    {
      "cell_type": "markdown",
      "source": [
        "https://lightgbm.readthedocs.io/en/latest/pythonapi/lightgbm.LGBMRegressor.html "
      ],
      "metadata": {
        "id": "sLqV3RvmQHiI"
      }
    },
    {
      "cell_type": "code",
      "source": [
        "# Instalação do Algoritmo\n",
        "!pip install lightgbm"
      ],
      "metadata": {
        "id": "hqvRU7h6Q9oc",
        "colab": {
          "base_uri": "https://localhost:8080/"
        },
        "outputId": "40c20b68-4c35-4e8b-e212-da0286b686bd"
      },
      "execution_count": null,
      "outputs": [
        {
          "output_type": "stream",
          "name": "stdout",
          "text": [
            "Looking in indexes: https://pypi.org/simple, https://us-python.pkg.dev/colab-wheels/public/simple/\n",
            "Requirement already satisfied: lightgbm in /usr/local/lib/python3.7/dist-packages (2.2.3)\n",
            "Requirement already satisfied: scikit-learn in /usr/local/lib/python3.7/dist-packages (from lightgbm) (1.0.2)\n",
            "Requirement already satisfied: numpy in /usr/local/lib/python3.7/dist-packages (from lightgbm) (1.21.6)\n",
            "Requirement already satisfied: scipy in /usr/local/lib/python3.7/dist-packages (from lightgbm) (1.7.3)\n",
            "Requirement already satisfied: threadpoolctl>=2.0.0 in /usr/local/lib/python3.7/dist-packages (from scikit-learn->lightgbm) (3.1.0)\n",
            "Requirement already satisfied: joblib>=0.11 in /usr/local/lib/python3.7/dist-packages (from scikit-learn->lightgbm) (1.2.0)\n"
          ]
        }
      ]
    },
    {
      "cell_type": "code",
      "source": [
        "import lightgbm as lgb"
      ],
      "metadata": {
        "id": "q4V61kANQgB5"
      },
      "execution_count": 35,
      "outputs": []
    },
    {
      "cell_type": "code",
      "metadata": {
        "id": "Sk8UBLYrQgB6"
      },
      "source": [
        "lgbm = lgb.LGBMRegressor()"
      ],
      "execution_count": 36,
      "outputs": []
    },
    {
      "cell_type": "markdown",
      "source": [
        "### **REGRESSÃO COM CATBOOST**"
      ],
      "metadata": {
        "id": "gZsVtfKfQgCC"
      }
    },
    {
      "cell_type": "markdown",
      "source": [
        "https://catboost.ai/en/docs/concepts/python-reference_catboostregressor "
      ],
      "metadata": {
        "id": "5GPeGeg-VXsz"
      }
    },
    {
      "cell_type": "code",
      "source": [
        "#Instalação\n",
        "!pip install catboost"
      ],
      "metadata": {
        "id": "NuLKDgUGVXs0",
        "colab": {
          "base_uri": "https://localhost:8080/"
        },
        "outputId": "3ecede9f-18cc-40c8-d414-498a76666f55"
      },
      "execution_count": null,
      "outputs": [
        {
          "output_type": "stream",
          "name": "stdout",
          "text": [
            "Looking in indexes: https://pypi.org/simple, https://us-python.pkg.dev/colab-wheels/public/simple/\n",
            "Requirement already satisfied: catboost in /usr/local/lib/python3.7/dist-packages (1.1)\n",
            "Requirement already satisfied: numpy>=1.16.0 in /usr/local/lib/python3.7/dist-packages (from catboost) (1.21.6)\n",
            "Requirement already satisfied: scipy in /usr/local/lib/python3.7/dist-packages (from catboost) (1.7.3)\n",
            "Requirement already satisfied: six in /usr/local/lib/python3.7/dist-packages (from catboost) (1.15.0)\n",
            "Requirement already satisfied: plotly in /usr/local/lib/python3.7/dist-packages (from catboost) (5.5.0)\n",
            "Requirement already satisfied: graphviz in /usr/local/lib/python3.7/dist-packages (from catboost) (0.10.1)\n",
            "Requirement already satisfied: matplotlib in /usr/local/lib/python3.7/dist-packages (from catboost) (3.2.2)\n",
            "Requirement already satisfied: pandas>=0.24.0 in /usr/local/lib/python3.7/dist-packages (from catboost) (1.3.5)\n",
            "Requirement already satisfied: python-dateutil>=2.7.3 in /usr/local/lib/python3.7/dist-packages (from pandas>=0.24.0->catboost) (2.8.2)\n",
            "Requirement already satisfied: pytz>=2017.3 in /usr/local/lib/python3.7/dist-packages (from pandas>=0.24.0->catboost) (2022.4)\n",
            "Requirement already satisfied: pyparsing!=2.0.4,!=2.1.2,!=2.1.6,>=2.0.1 in /usr/local/lib/python3.7/dist-packages (from matplotlib->catboost) (3.0.9)\n",
            "Requirement already satisfied: cycler>=0.10 in /usr/local/lib/python3.7/dist-packages (from matplotlib->catboost) (0.11.0)\n",
            "Requirement already satisfied: kiwisolver>=1.0.1 in /usr/local/lib/python3.7/dist-packages (from matplotlib->catboost) (1.4.4)\n",
            "Requirement already satisfied: typing-extensions in /usr/local/lib/python3.7/dist-packages (from kiwisolver>=1.0.1->matplotlib->catboost) (4.1.1)\n",
            "Requirement already satisfied: tenacity>=6.2.0 in /usr/local/lib/python3.7/dist-packages (from plotly->catboost) (8.1.0)\n"
          ]
        }
      ]
    },
    {
      "cell_type": "code",
      "source": [
        "from catboost.core import CatBoostRegressor"
      ],
      "metadata": {
        "id": "Mvq49H8TVXs5"
      },
      "execution_count": 37,
      "outputs": []
    },
    {
      "cell_type": "code",
      "metadata": {
        "id": "ElgRHg_3VXs6"
      },
      "source": [
        "catboost = CatBoostRegressor ()"
      ],
      "execution_count": 38,
      "outputs": []
    },
    {
      "cell_type": "markdown",
      "source": [
        "## **REDES NEURAIS ARTIFICIAIS**"
      ],
      "metadata": {
        "id": "K4Xj0I4pDYMF"
      }
    },
    {
      "cell_type": "markdown",
      "source": [
        "https://scikit-learn.org/stable/modules/generated/sklearn.neural_network.MLPRegressor.html"
      ],
      "metadata": {
        "id": "G6PR1R9sJjII"
      }
    },
    {
      "cell_type": "code",
      "source": [
        "from sklearn.neural_network import MLPRegressor"
      ],
      "metadata": {
        "id": "euAEbYkXDdkN"
      },
      "execution_count": 39,
      "outputs": []
    },
    {
      "cell_type": "code",
      "source": [
        "redes = MLPRegressor()"
      ],
      "metadata": {
        "id": "W1yKr1nNDpns"
      },
      "execution_count": 41,
      "outputs": []
    },
    {
      "cell_type": "markdown",
      "source": [
        "https://scikit-learn.org/stable/modules/generated/sklearn.neural_network.MLPClassifier.html"
      ],
      "metadata": {
        "id": "o4BonWE7JcmU"
      }
    },
    {
      "cell_type": "code",
      "source": [
        "from sklearn.neural_network import MLPClassifier"
      ],
      "metadata": {
        "id": "MrqLHRnRD3X1"
      },
      "execution_count": 40,
      "outputs": []
    },
    {
      "cell_type": "code",
      "source": [
        "redes = MLPClassifier()"
      ],
      "metadata": {
        "id": "aVyFRAGyD86l"
      },
      "execution_count": 42,
      "outputs": []
    }
  ]
}